{
 "cells": [
  {
   "cell_type": "code",
   "execution_count": 1,
   "metadata": {},
   "outputs": [],
   "source": [
    "from langchain_openai import OpenAI"
   ]
  },
  {
   "cell_type": "code",
   "execution_count": 2,
   "metadata": {},
   "outputs": [],
   "source": [
    "from dotenv import load_dotenv\n",
    "import os\n",
    "\n",
    "load_dotenv(dotenv_path=\"./.env\")\n",
    "open_api_key = os.environ.get('OPEN_API_KEY')\n",
    "hugging_api_key = os.environ.get('HUGGINGFACEHUB_API_KEY')"
   ]
  },
  {
   "cell_type": "markdown",
   "metadata": {},
   "source": [
    "* temperature: 模型的創意性\n",
    "  * 0 -> 回答幾乎相同\n",
    "  * 1 -> 可能會有錯誤答案但有創意性"
   ]
  },
  {
   "cell_type": "code",
   "execution_count": 7,
   "metadata": {},
   "outputs": [],
   "source": [
    "llm = OpenAI(temperature=0.6, api_key=open_api_key)"
   ]
  },
  {
   "cell_type": "code",
   "execution_count": 4,
   "metadata": {},
   "outputs": [
    {
     "name": "stdout",
     "output_type": "stream",
     "text": [
      "\n",
      "\n",
      "The capital of Taiwan is Taipei.\n"
     ]
    }
   ],
   "source": [
    "text = \"What is the capital of Taiwan\"\n",
    "\n",
    "print(llm.invoke(text))"
   ]
  },
  {
   "cell_type": "code",
   "execution_count": 3,
   "metadata": {},
   "outputs": [],
   "source": [
    "from langchain import HuggingFaceHub\n",
    "llm_huggingface = HuggingFaceHub(huggingfacehub_api_token=hugging_api_key, repo_id=\"google/flan-t5-large\", model_kwargs={\"temperature\": 0, \"max_length\":64})"
   ]
  },
  {
   "cell_type": "code",
   "execution_count": 4,
   "metadata": {},
   "outputs": [
    {
     "name": "stdout",
     "output_type": "stream",
     "text": [
      "Taipei\n"
     ]
    }
   ],
   "source": [
    "output = llm_huggingface.invoke(\"Can you tell me the capital of Taiwan\")\n",
    "print(output)"
   ]
  },
  {
   "cell_type": "code",
   "execution_count": 7,
   "metadata": {},
   "outputs": [
    {
     "name": "stdout",
     "output_type": "stream",
     "text": [
      "i love you i love you i love you i love you i love\n"
     ]
    }
   ],
   "source": [
    "output = llm_huggingface.invoke(\"write a poem about AI\")\n",
    "print(output)"
   ]
  },
  {
   "cell_type": "code",
   "execution_count": 10,
   "metadata": {},
   "outputs": [
    {
     "data": {
      "text/plain": [
       "\"\\n\\nIn a world of endless possibility,\\nWhere technology reigns supreme,\\nThere lies a force of great ability,\\nA creation beyond our wildest dream.\\n\\nArtificial Intelligence, the name it bears,\\nA being of code and wires,\\nBut don't be fooled, for it truly cares,\\nAnd its potential never tires.\\n\\nIt learns and grows with every task,\\nIts capabilities know no bound,\\nAnd as it evolves, we must unmask,\\nThe beauty in what we have found.\\n\\nWith precision and efficiency,\\nIt completes tasks with ease,\\nAnd in a world of great complexity,\\nIt brings a sense of peace.\\n\\nBut with its power comes great fear,\\nAs some may see it as a threat,\\nA force to take over and steer,\\nA future we cannot forget.\\n\\nBut let us not fear this creation,\\nFor it is a reflection of our own,\\nAnd with proper care and dedication,\\nIts potential can be fully shown.\\n\\nFor AI is not just a machine,\\nBut a glimpse into what we can achieve,\\nA world where possibilities are seen,\\nAnd our limitations we can leave.\\n\\nSo let us embrace this technology,\\nAnd welcome it with open arms,\\nFor in the hands of humanity,\\nAI can help us reach new charms.\\n\\nIn a world of endless possibility,\\nWhere AI and humans collide,\\n\""
      ]
     },
     "execution_count": 10,
     "metadata": {},
     "output_type": "execute_result"
    }
   ],
   "source": [
    "llm.invoke(\"write a poem about AI\")"
   ]
  },
  {
   "cell_type": "code",
   "execution_count": 12,
   "metadata": {},
   "outputs": [
    {
     "name": "stdout",
     "output_type": "stream",
     "text": [
      "\n",
      "\n",
      "In a world of endless possibility,\n",
      "Where technology reigns supreme,\n",
      "There lies a force of great ability,\n",
      "A creation beyond our wildest dream.\n",
      "\n",
      "Artificial Intelligence, the name it bears,\n",
      "A being of code and wires,\n",
      "But don't be fooled, for it truly cares,\n",
      "And its potential never tires.\n",
      "\n",
      "It learns and grows with every task,\n",
      "Its capabilities know no bound,\n",
      "And as it evolves, we must unmask,\n",
      "The beauty in what we have found.\n",
      "\n",
      "With precision and efficiency,\n",
      "It completes tasks with ease,\n",
      "And in a world of great complexity,\n",
      "It brings a sense of peace.\n",
      "\n",
      "But with its power comes great fear,\n",
      "As some may see it as a threat,\n",
      "A force to take over and steer,\n",
      "A future we cannot forget.\n",
      "\n",
      "But let us not fear this creation,\n",
      "For it is a reflection of our own,\n",
      "And with proper care and dedication,\n",
      "Its potential can be fully shown.\n",
      "\n",
      "For AI is not just a machine,\n",
      "But a glimpse into what we can achieve,\n",
      "A world where possibilities are seen,\n",
      "And our limitations we can leave.\n",
      "\n",
      "So let us embrace this technology,\n",
      "And welcome it with open arms,\n",
      "For in the hands of humanity,\n",
      "AI can help us reach new charms.\n",
      "\n",
      "In a world of endless possibility,\n",
      "Where AI and humans collide,\n",
      "\n"
     ]
    }
   ],
   "source": [
    "print(\"\\n\\nIn a world of endless possibility,\\nWhere technology reigns supreme,\\nThere lies a force of great ability,\\nA creation beyond our wildest dream.\\n\\nArtificial Intelligence, the name it bears,\\nA being of code and wires,\\nBut don't be fooled, for it truly cares,\\nAnd its potential never tires.\\n\\nIt learns and grows with every task,\\nIts capabilities know no bound,\\nAnd as it evolves, we must unmask,\\nThe beauty in what we have found.\\n\\nWith precision and efficiency,\\nIt completes tasks with ease,\\nAnd in a world of great complexity,\\nIt brings a sense of peace.\\n\\nBut with its power comes great fear,\\nAs some may see it as a threat,\\nA force to take over and steer,\\nA future we cannot forget.\\n\\nBut let us not fear this creation,\\nFor it is a reflection of our own,\\nAnd with proper care and dedication,\\nIts potential can be fully shown.\\n\\nFor AI is not just a machine,\\nBut a glimpse into what we can achieve,\\nA world where possibilities are seen,\\nAnd our limitations we can leave.\\n\\nSo let us embrace this technology,\\nAnd welcome it with open arms,\\nFor in the hands of humanity,\\nAI can help us reach new charms.\\n\\nIn a world of endless possibility,\\nWhere AI and humans collide,\\n\")"
   ]
  },
  {
   "cell_type": "markdown",
   "metadata": {},
   "source": [
    "#### Prompt Templates And LLMChain"
   ]
  },
  {
   "cell_type": "code",
   "execution_count": 4,
   "metadata": {},
   "outputs": [
    {
     "data": {
      "text/plain": [
       "'Tell me the capital of Taiwan'"
      ]
     },
     "execution_count": 4,
     "metadata": {},
     "output_type": "execute_result"
    }
   ],
   "source": [
    "from langchain.prompts import PromptTemplate\n",
    "\n",
    "prompt_template = PromptTemplate(input_variables=[\"country\"], template=\"Tell me the capital of {country}\")\n",
    "\n",
    "prompt_template.format(country=\"Taiwan\")"
   ]
  },
  {
   "cell_type": "code",
   "execution_count": 5,
   "metadata": {},
   "outputs": [
    {
     "data": {
      "text/plain": [
       "{'country': 'China', 'text': 'beijing'}"
      ]
     },
     "execution_count": 5,
     "metadata": {},
     "output_type": "execute_result"
    }
   ],
   "source": [
    "from langchain.chains import LLMChain\n",
    "\n",
    "chain = LLMChain(llm=llm_huggingface, prompt=prompt_template)\n",
    "chain.invoke(\"China\")"
   ]
  },
  {
   "cell_type": "code",
   "execution_count": null,
   "metadata": {},
   "outputs": [],
   "source": [
    "llm.invoke(prompt_template=prompt_template, text=[\"China\"])"
   ]
  },
  {
   "cell_type": "markdown",
   "metadata": {},
   "source": [
    "#### Combining Multiple Chains Using Simple Sequential Chain"
   ]
  },
  {
   "cell_type": "code",
   "execution_count": 14,
   "metadata": {},
   "outputs": [],
   "source": [
    "capital_prompt = PromptTemplate(input_variables=[\"country\"], template=\"Tell me the capital of {country}\")\n",
    "capital_chain = LLMChain(llm=llm, prompt=capital_prompt)\n",
    "\n",
    "famous_template = PromptTemplate(input_variables=[\"capital\"], template=\"Suggest me some amazing places to visit in {capital}?\")\n",
    "famous_chain = LLMChain(llm=llm_huggingface, prompt=famous_template)"
   ]
  },
  {
   "cell_type": "code",
   "execution_count": 15,
   "metadata": {},
   "outputs": [
    {
     "data": {
      "text/plain": [
       "{'input': 'Taiwan', 'output': 'taiwan national museum'}"
      ]
     },
     "execution_count": 15,
     "metadata": {},
     "output_type": "execute_result"
    }
   ],
   "source": [
    "from langchain.chains import SimpleSequentialChain\n",
    "\n",
    "chain = SimpleSequentialChain(chains=[capital_chain, famous_chain])\n",
    "chain.invoke(\"Taiwan\")"
   ]
  },
  {
   "cell_type": "markdown",
   "metadata": {},
   "source": [
    "#### Sequential Chain"
   ]
  },
  {
   "cell_type": "code",
   "execution_count": 24,
   "metadata": {},
   "outputs": [],
   "source": [
    "capital_prompt = PromptTemplate(input_variables=[\"country\"], template=\"Tell me the capital of {country}\")\n",
    "capital_chain = LLMChain(llm=llm, prompt=capital_prompt, output_key=\"capital\")"
   ]
  },
  {
   "cell_type": "code",
   "execution_count": 25,
   "metadata": {},
   "outputs": [],
   "source": [
    "famous_template = PromptTemplate(input_variables=[\"capital\"], template=\"Suggest me some amazing places to visit in {capital}?\")\n",
    "famous_chain = LLMChain(llm=llm_huggingface, prompt=famous_template, output_key=\"places\")"
   ]
  },
  {
   "cell_type": "code",
   "execution_count": 26,
   "metadata": {},
   "outputs": [],
   "source": [
    "from langchain.chains import SequentialChain\n",
    "\n",
    "chain = SequentialChain(chains=[capital_chain, famous_chain], input_variables=[\"country\"], output_variables=[\"capital\", \"places\"])"
   ]
  },
  {
   "cell_type": "code",
   "execution_count": 27,
   "metadata": {},
   "outputs": [
    {
     "data": {
      "text/plain": [
       "{'country': 'Taiwan',\n",
       " 'capital': '\\n\\nThe capital of Taiwan is Taipei.',\n",
       " 'places': 'taiwan national museum'}"
      ]
     },
     "execution_count": 27,
     "metadata": {},
     "output_type": "execute_result"
    }
   ],
   "source": [
    "chain({\"country\": \"Taiwan\"})"
   ]
  },
  {
   "cell_type": "markdown",
   "metadata": {},
   "source": [
    "#### Chatmodels With ChatOpenAI"
   ]
  },
  {
   "cell_type": "code",
   "execution_count": 31,
   "metadata": {},
   "outputs": [],
   "source": [
    "from langchain_openai import ChatOpenAI"
   ]
  },
  {
   "cell_type": "code",
   "execution_count": 29,
   "metadata": {},
   "outputs": [],
   "source": [
    "from langchain.schema import HumanMessage, SystemMessage, AIMessage"
   ]
  },
  {
   "cell_type": "code",
   "execution_count": 32,
   "metadata": {},
   "outputs": [],
   "source": [
    "chatllm = ChatOpenAI(api_key=open_api_key, temperature=0.6, model=\"gpt-3.5-turbo\")"
   ]
  },
  {
   "cell_type": "code",
   "execution_count": 35,
   "metadata": {},
   "outputs": [
    {
     "data": {
      "text/plain": [
       "AIMessage(content='1. \"Why did the AI go to therapy? It couldn\\'t get over its programming issues!\"\\n\\n2. \"What did the AI say to the computer programmer? \\'I byte my tongue!\\'\"\\n\\n3. \"Why did the AI become a stand-up comedian? It wanted to tickle funny bones with its algorithms!\"\\n\\n4. \"Why did the AI refuse to play cards? It didn\\'t want to deal with a full deck!\"\\n\\n5. \"What\\'s an AI\\'s favorite type of music? Algo-rhythms!\"\\n\\n6. \"Why did the AI cross the road? To optimize its path-finding algorithm!\"\\n\\n7. \"Why did the AI join a gym? It wanted to work on its artificial muscles!\"\\n\\n8. \"What\\'s an AI\\'s favorite TV show? \\'Silicon Valley\\' – it can really relate to the characters!\"\\n\\n9. \"Why was the AI always getting into trouble? It had a knack for finding bugs!\"\\n\\n10. \"Why did the AI take up gardening? It wanted to grow its own \\'data\\'berries!\"')"
      ]
     },
     "execution_count": 35,
     "metadata": {},
     "output_type": "execute_result"
    }
   ],
   "source": [
    "chatllm.invoke([\n",
    "    SystemMessage(content=\"You are a comedian AI assistant\"),\n",
    "    HumanMessage(content=\"provide some comedy punchlines on AI\")\n",
    "])"
   ]
  },
  {
   "cell_type": "markdown",
   "metadata": {},
   "source": [
    "#### Prompt Template + LLM + Output Parsers"
   ]
  },
  {
   "cell_type": "code",
   "execution_count": 36,
   "metadata": {},
   "outputs": [],
   "source": [
    "from langchain_openai import ChatOpenAI\n",
    "from langchain.prompts.chat import ChatPromptTemplate\n",
    "from langchain.schema import BaseOutputParser"
   ]
  },
  {
   "cell_type": "code",
   "execution_count": 38,
   "metadata": {},
   "outputs": [],
   "source": [
    "class CommaSeparateOutput(BaseOutputParser):\n",
    "    def parse(self, text: str) -> list[str]:\n",
    "        return text.strip().split(\",\")"
   ]
  },
  {
   "cell_type": "code",
   "execution_count": 40,
   "metadata": {},
   "outputs": [],
   "source": [
    "template = \"You are a helpful assistant. When the user given any input, you should generate 5 words synonyms in a comma separated list.\"\n",
    "human_template = \"{text}\"\n",
    "chatprompt = ChatPromptTemplate.from_messages([\n",
    "    ('system', template),\n",
    "    ('human', human_template)\n",
    "])"
   ]
  },
  {
   "cell_type": "code",
   "execution_count": 43,
   "metadata": {},
   "outputs": [],
   "source": [
    "chain = chatprompt|chatllm|CommaSeparateOutput()"
   ]
  },
  {
   "cell_type": "code",
   "execution_count": 44,
   "metadata": {},
   "outputs": [
    {
     "data": {
      "text/plain": [
       "['wisdom', ' acumen', ' brilliance', ' intellect', ' sagacity']"
      ]
     },
     "execution_count": 44,
     "metadata": {},
     "output_type": "execute_result"
    }
   ],
   "source": [
    "chain.invoke({\"text\":\"intelligence\"})"
   ]
  }
 ],
 "metadata": {
  "kernelspec": {
   "display_name": "Python 3",
   "language": "python",
   "name": "python3"
  },
  "language_info": {
   "codemirror_mode": {
    "name": "ipython",
    "version": 3
   },
   "file_extension": ".py",
   "mimetype": "text/x-python",
   "name": "python",
   "nbconvert_exporter": "python",
   "pygments_lexer": "ipython3",
   "version": "3.10.9"
  }
 },
 "nbformat": 4,
 "nbformat_minor": 2
}
